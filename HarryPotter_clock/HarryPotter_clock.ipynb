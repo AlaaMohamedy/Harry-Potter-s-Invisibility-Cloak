{
 "cells": [
  {
   "cell_type": "code",
   "execution_count": 1,
   "id": "0caffaef",
   "metadata": {},
   "outputs": [],
   "source": [
    "import cv2\n",
    "import numpy as np\n",
    "import time"
   ]
  },
  {
   "cell_type": "code",
   "execution_count": 2,
   "id": "9db47bfb",
   "metadata": {},
   "outputs": [],
   "source": [
    "count=0\n",
    "capture_video = cv2.VideoCapture(0)\n",
    "for i in range(60):\n",
    "    return_val, background = capture_video.read()\n",
    "    if return_val == False :\n",
    "        continue \n",
    "background = np.flip(background, axis = 1) # flipping of the frame \n",
    "# we are reading from video \n",
    "while (capture_video.isOpened()):\n",
    "    return_val, img = capture_video.read()\n",
    "    if not return_val :\n",
    "        break \n",
    "    #count = count + 1\n",
    "    img = np.flip(img, axis = 1)\n",
    "  \n",
    "  \n",
    "    # converting BGR to HSV for better \n",
    "    # detection or you can convert it to gray\n",
    "    hsv = cv2.cvtColor(img, cv2.COLOR_BGR2HSV) \n",
    "  \n",
    "    #-------------------------------------BLOCK----------------------------#\n",
    "    # ranges should be carefully chosen\n",
    "    # setting the lower and upper range for mask1\n",
    "    \n",
    "    #lower_red = np.array([100, 40, 40])       \n",
    "    #upper_red = np.array([100, 255, 255])\n",
    "    lower_red = np.array([0, 125, 50])       \n",
    "    upper_red = np.array([10, 255, 255])\n",
    "    mask1 = cv2.inRange(hsv, lower_red, upper_red)\n",
    "    # setting the lower and upper range for mask2 \n",
    "    \n",
    "    #lower_red = np.array([155, 40, 40])\n",
    "    lower_red = np.array([170, 120, 70])\n",
    "    upper_red = np.array([180, 255, 255])\n",
    "    mask2 = cv2.inRange(hsv, lower_red, upper_red)\n",
    "  \n",
    "    mask1 = mask1 + mask2\n",
    "  \n",
    "    # Refining the mask corresponding to the detected red color\n",
    "    mask1 = cv2.morphologyEx(mask1, cv2.MORPH_OPEN, np.ones((3, 3),\n",
    "                                         np.uint8), iterations = 2)\n",
    "    mask1 = cv2.dilate(mask1, np.ones((3, 3), np.uint8), iterations = 1)\n",
    "    mask2 = cv2.bitwise_not(mask1)\n",
    "  \n",
    "    # Generating the final output\n",
    "    res1 = cv2.bitwise_and(background, background, mask = mask1)\n",
    "    res2 = cv2.bitwise_and(img, img, mask = mask2)\n",
    "    final_output = cv2.addWeighted(res1, 1, res2, 1, 0)\n",
    "  \n",
    "    cv2.imshow(\"INVISIBLE person\", final_output)\n",
    "   \n",
    "    if cv2.waitKey(1) == ord('q'):\n",
    "        break\n",
    "    \n",
    "capture_video.release()\n",
    "cv2.destroyAllWindows()"
   ]
  },
  {
   "cell_type": "code",
   "execution_count": null,
   "id": "babe29b6",
   "metadata": {},
   "outputs": [],
   "source": []
  }
 ],
 "metadata": {
  "kernelspec": {
   "display_name": "Python 3 (ipykernel)",
   "language": "python",
   "name": "python3"
  },
  "language_info": {
   "codemirror_mode": {
    "name": "ipython",
    "version": 3
   },
   "file_extension": ".py",
   "mimetype": "text/x-python",
   "name": "python",
   "nbconvert_exporter": "python",
   "pygments_lexer": "ipython3",
   "version": "3.9.7"
  }
 },
 "nbformat": 4,
 "nbformat_minor": 5
}
